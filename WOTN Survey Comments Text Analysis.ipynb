{
 "cells": [
  {
   "cell_type": "markdown",
   "id": "b755a90c",
   "metadata": {},
   "source": [
    "# WOTN AIREXPO SURVEY COMMNENT ANALYSIS"
   ]
  },
  {
   "cell_type": "code",
   "execution_count": 1,
   "id": "7fe844f2",
   "metadata": {},
   "outputs": [],
   "source": [
    "import pandas as pd\n",
    "import re"
   ]
  },
  {
   "cell_type": "markdown",
   "id": "534712dd",
   "metadata": {},
   "source": [
    "### Section 1: Import Survey Comments"
   ]
  },
  {
   "cell_type": "code",
   "execution_count": 2,
   "id": "b1948fb6",
   "metadata": {
    "scrolled": true
   },
   "outputs": [
    {
     "data": {
      "text/html": [
       "<div>\n",
       "<style scoped>\n",
       "    .dataframe tbody tr th:only-of-type {\n",
       "        vertical-align: middle;\n",
       "    }\n",
       "\n",
       "    .dataframe tbody tr th {\n",
       "        vertical-align: top;\n",
       "    }\n",
       "\n",
       "    .dataframe thead th {\n",
       "        text-align: right;\n",
       "    }\n",
       "</style>\n",
       "<table border=\"1\" class=\"dataframe\">\n",
       "  <thead>\n",
       "    <tr style=\"text-align: right;\">\n",
       "      <th></th>\n",
       "      <th>first_AirExpo</th>\n",
       "      <th>past_AirExpos</th>\n",
       "      <th>likely_to_come_back</th>\n",
       "      <th>likely_to_recommend</th>\n",
       "      <th>age_group</th>\n",
       "      <th>Explain</th>\n",
       "      <th>Comments</th>\n",
       "      <th>entry_id</th>\n",
       "    </tr>\n",
       "  </thead>\n",
       "  <tbody>\n",
       "    <tr>\n",
       "      <th>0</th>\n",
       "      <td>No</td>\n",
       "      <td>6.0</td>\n",
       "      <td>10</td>\n",
       "      <td>10</td>\n",
       "      <td>36 - 50</td>\n",
       "      <td>NaN</td>\n",
       "      <td>NaN</td>\n",
       "      <td>146</td>\n",
       "    </tr>\n",
       "    <tr>\n",
       "      <th>1</th>\n",
       "      <td>No</td>\n",
       "      <td>1.0</td>\n",
       "      <td>9</td>\n",
       "      <td>9</td>\n",
       "      <td>36 - 50</td>\n",
       "      <td>NaN</td>\n",
       "      <td>This year's Expo was great! Hands down a huge ...</td>\n",
       "      <td>145</td>\n",
       "    </tr>\n",
       "    <tr>\n",
       "      <th>2</th>\n",
       "      <td>Yes</td>\n",
       "      <td>NaN</td>\n",
       "      <td>10</td>\n",
       "      <td>10</td>\n",
       "      <td>66+</td>\n",
       "      <td>NaN</td>\n",
       "      <td>Appreciated the helpfulness of onsite local po...</td>\n",
       "      <td>142</td>\n",
       "    </tr>\n",
       "    <tr>\n",
       "      <th>3</th>\n",
       "      <td>No</td>\n",
       "      <td>6.0</td>\n",
       "      <td>9</td>\n",
       "      <td>10</td>\n",
       "      <td>36 - 50</td>\n",
       "      <td>NaN</td>\n",
       "      <td>NaN</td>\n",
       "      <td>141</td>\n",
       "    </tr>\n",
       "    <tr>\n",
       "      <th>4</th>\n",
       "      <td>Yes</td>\n",
       "      <td>NaN</td>\n",
       "      <td>6</td>\n",
       "      <td>8</td>\n",
       "      <td>36 - 50</td>\n",
       "      <td>I wanted to take my daughter to an air show th...</td>\n",
       "      <td>Website said breakfast on both days but there ...</td>\n",
       "      <td>140</td>\n",
       "    </tr>\n",
       "    <tr>\n",
       "      <th>...</th>\n",
       "      <td>...</td>\n",
       "      <td>...</td>\n",
       "      <td>...</td>\n",
       "      <td>...</td>\n",
       "      <td>...</td>\n",
       "      <td>...</td>\n",
       "      <td>...</td>\n",
       "      <td>...</td>\n",
       "    </tr>\n",
       "    <tr>\n",
       "      <th>62</th>\n",
       "      <td>No</td>\n",
       "      <td>3.0</td>\n",
       "      <td>7</td>\n",
       "      <td>6</td>\n",
       "      <td>51 - 65</td>\n",
       "      <td>NaN</td>\n",
       "      <td>The parking for 2021 was the worst ever. It to...</td>\n",
       "      <td>82</td>\n",
       "    </tr>\n",
       "    <tr>\n",
       "      <th>63</th>\n",
       "      <td>No</td>\n",
       "      <td>4.0</td>\n",
       "      <td>10</td>\n",
       "      <td>10</td>\n",
       "      <td>36 - 50</td>\n",
       "      <td>NaN</td>\n",
       "      <td>The variety of new aircraft was nice. I would ...</td>\n",
       "      <td>81</td>\n",
       "    </tr>\n",
       "    <tr>\n",
       "      <th>64</th>\n",
       "      <td>Yes</td>\n",
       "      <td>NaN</td>\n",
       "      <td>9</td>\n",
       "      <td>9</td>\n",
       "      <td>51 - 65</td>\n",
       "      <td>NaN</td>\n",
       "      <td>The show was absolutely fantastic!</td>\n",
       "      <td>80</td>\n",
       "    </tr>\n",
       "    <tr>\n",
       "      <th>65</th>\n",
       "      <td>Yes</td>\n",
       "      <td>NaN</td>\n",
       "      <td>8</td>\n",
       "      <td>8</td>\n",
       "      <td>36 - 50</td>\n",
       "      <td>NaN</td>\n",
       "      <td>The drive in and parking was atrocious.\\nThere...</td>\n",
       "      <td>79</td>\n",
       "    </tr>\n",
       "    <tr>\n",
       "      <th>66</th>\n",
       "      <td>No</td>\n",
       "      <td>8.0</td>\n",
       "      <td>10</td>\n",
       "      <td>10</td>\n",
       "      <td>66+</td>\n",
       "      <td>NaN</td>\n",
       "      <td>Need to expedite faster parking. More food ven...</td>\n",
       "      <td>78</td>\n",
       "    </tr>\n",
       "  </tbody>\n",
       "</table>\n",
       "<p>67 rows × 8 columns</p>\n",
       "</div>"
      ],
      "text/plain": [
       "   first_AirExpo  past_AirExpos  likely_to_come_back  likely_to_recommend  \\\n",
       "0             No            6.0                   10                   10   \n",
       "1             No            1.0                    9                    9   \n",
       "2            Yes            NaN                   10                   10   \n",
       "3             No            6.0                    9                   10   \n",
       "4            Yes            NaN                    6                    8   \n",
       "..           ...            ...                  ...                  ...   \n",
       "62            No            3.0                    7                    6   \n",
       "63            No            4.0                   10                   10   \n",
       "64           Yes            NaN                    9                    9   \n",
       "65           Yes            NaN                    8                    8   \n",
       "66            No            8.0                   10                   10   \n",
       "\n",
       "   age_group                                            Explain  \\\n",
       "0    36 - 50                                                NaN   \n",
       "1    36 - 50                                                NaN   \n",
       "2        66+                                                NaN   \n",
       "3    36 - 50                                                NaN   \n",
       "4    36 - 50  I wanted to take my daughter to an air show th...   \n",
       "..       ...                                                ...   \n",
       "62   51 - 65                                                NaN   \n",
       "63   36 - 50                                                NaN   \n",
       "64   51 - 65                                                NaN   \n",
       "65   36 - 50                                                NaN   \n",
       "66       66+                                                NaN   \n",
       "\n",
       "                                             Comments  entry_id  \n",
       "0                                                 NaN       146  \n",
       "1   This year's Expo was great! Hands down a huge ...       145  \n",
       "2   Appreciated the helpfulness of onsite local po...       142  \n",
       "3                                                 NaN       141  \n",
       "4   Website said breakfast on both days but there ...       140  \n",
       "..                                                ...       ...  \n",
       "62  The parking for 2021 was the worst ever. It to...        82  \n",
       "63  The variety of new aircraft was nice. I would ...        81  \n",
       "64                 The show was absolutely fantastic!        80  \n",
       "65  The drive in and parking was atrocious.\\nThere...        79  \n",
       "66  Need to expedite faster parking. More food ven...        78  \n",
       "\n",
       "[67 rows x 8 columns]"
      ]
     },
     "execution_count": 2,
     "metadata": {},
     "output_type": "execute_result"
    }
   ],
   "source": [
    "data = pd.read_csv('D://DataSets//WOTN_Survey.csv', encoding = 'cp1252')\n",
    "data"
   ]
  },
  {
   "cell_type": "markdown",
   "id": "11bf88b6",
   "metadata": {},
   "source": [
    "### Let's just look at the comments column"
   ]
  },
  {
   "cell_type": "code",
   "execution_count": 3,
   "id": "6bd01ccc",
   "metadata": {},
   "outputs": [
    {
     "data": {
      "text/html": [
       "<div>\n",
       "<style scoped>\n",
       "    .dataframe tbody tr th:only-of-type {\n",
       "        vertical-align: middle;\n",
       "    }\n",
       "\n",
       "    .dataframe tbody tr th {\n",
       "        vertical-align: top;\n",
       "    }\n",
       "\n",
       "    .dataframe thead th {\n",
       "        text-align: right;\n",
       "    }\n",
       "</style>\n",
       "<table border=\"1\" class=\"dataframe\">\n",
       "  <thead>\n",
       "    <tr style=\"text-align: right;\">\n",
       "      <th></th>\n",
       "      <th>Comments</th>\n",
       "    </tr>\n",
       "  </thead>\n",
       "  <tbody>\n",
       "    <tr>\n",
       "      <th>1</th>\n",
       "      <td>This year's Expo was great! Hands down a huge ...</td>\n",
       "    </tr>\n",
       "    <tr>\n",
       "      <th>2</th>\n",
       "      <td>Appreciated the helpfulness of onsite local po...</td>\n",
       "    </tr>\n",
       "    <tr>\n",
       "      <th>4</th>\n",
       "      <td>Website said breakfast on both days but there ...</td>\n",
       "    </tr>\n",
       "    <tr>\n",
       "      <th>5</th>\n",
       "      <td>AirExpo was fun and it was great being able to...</td>\n",
       "    </tr>\n",
       "    <tr>\n",
       "      <th>8</th>\n",
       "      <td>A fantastic event! I was not sure if the kids ...</td>\n",
       "    </tr>\n",
       "    <tr>\n",
       "      <th>9</th>\n",
       "      <td>Loved the A-10s. Everyone did a great job.</td>\n",
       "    </tr>\n",
       "    <tr>\n",
       "      <th>10</th>\n",
       "      <td>Serve beer for adults</td>\n",
       "    </tr>\n",
       "    <tr>\n",
       "      <th>11</th>\n",
       "      <td>None</td>\n",
       "    </tr>\n",
       "    <tr>\n",
       "      <th>13</th>\n",
       "      <td>We enjoyed our first time there! Will plan on ...</td>\n",
       "    </tr>\n",
       "    <tr>\n",
       "      <th>14</th>\n",
       "      <td>It was so much fun. Loved all the vets you had...</td>\n",
       "    </tr>\n",
       "    <tr>\n",
       "      <th>15</th>\n",
       "      <td>More shade and seating would be a huge improve...</td>\n",
       "    </tr>\n",
       "    <tr>\n",
       "      <th>16</th>\n",
       "      <td>You completely and utterly failed with having ...</td>\n",
       "    </tr>\n",
       "    <tr>\n",
       "      <th>17</th>\n",
       "      <td>It was amazing thank you</td>\n",
       "    </tr>\n",
       "    <tr>\n",
       "      <th>18</th>\n",
       "      <td>Please try to have more food trucks next year....</td>\n",
       "    </tr>\n",
       "    <tr>\n",
       "      <th>19</th>\n",
       "      <td>Loved it! My 91 yr old dad got us started last...</td>\n",
       "    </tr>\n",
       "    <tr>\n",
       "      <th>20</th>\n",
       "      <td>Thank you for doing such a great job! We came ...</td>\n",
       "    </tr>\n",
       "    <tr>\n",
       "      <th>21</th>\n",
       "      <td>More food options</td>\n",
       "    </tr>\n",
       "    <tr>\n",
       "      <th>22</th>\n",
       "      <td>More than one entrance, or multiple lanes ente...</td>\n",
       "    </tr>\n",
       "    <tr>\n",
       "      <th>23</th>\n",
       "      <td>I thought the flight demonstrations of Saturda...</td>\n",
       "    </tr>\n",
       "    <tr>\n",
       "      <th>25</th>\n",
       "      <td>More WW2 planes maybe a Fokker-Wulf, Stratafor...</td>\n",
       "    </tr>\n",
       "    <tr>\n",
       "      <th>26</th>\n",
       "      <td>Took me 1 hour to get from the Flying Cloud Dr...</td>\n",
       "    </tr>\n",
       "    <tr>\n",
       "      <th>28</th>\n",
       "      <td>Please continue the pancake breakfast!  A bigg...</td>\n",
       "    </tr>\n",
       "    <tr>\n",
       "      <th>31</th>\n",
       "      <td>Enjoyed the show. The entrance wait could have...</td>\n",
       "    </tr>\n",
       "    <tr>\n",
       "      <th>32</th>\n",
       "      <td>Biggest complaint is the fact that getting int...</td>\n",
       "    </tr>\n",
       "    <tr>\n",
       "      <th>33</th>\n",
       "      <td>The parking was awful</td>\n",
       "    </tr>\n",
       "    <tr>\n",
       "      <th>34</th>\n",
       "      <td>Only things I can think of, if the B-17 would ...</td>\n",
       "    </tr>\n",
       "    <tr>\n",
       "      <th>35</th>\n",
       "      <td>Overall it was a great event to go to. Only re...</td>\n",
       "    </tr>\n",
       "    <tr>\n",
       "      <th>36</th>\n",
       "      <td>Please recycle plastic bottles</td>\n",
       "    </tr>\n",
       "    <tr>\n",
       "      <th>39</th>\n",
       "      <td>More toilets and more food vendors</td>\n",
       "    </tr>\n",
       "    <tr>\n",
       "      <th>41</th>\n",
       "      <td>Well organized. Like to see special op activit...</td>\n",
       "    </tr>\n",
       "    <tr>\n",
       "      <th>43</th>\n",
       "      <td>Have more than ONE entrance to parking!!!!</td>\n",
       "    </tr>\n",
       "    <tr>\n",
       "      <th>44</th>\n",
       "      <td>It was awesome!</td>\n",
       "    </tr>\n",
       "    <tr>\n",
       "      <th>45</th>\n",
       "      <td>More food options. Vendors ran out of food at ...</td>\n",
       "    </tr>\n",
       "    <tr>\n",
       "      <th>46</th>\n",
       "      <td>more food choices</td>\n",
       "    </tr>\n",
       "    <tr>\n",
       "      <th>50</th>\n",
       "      <td>Everything was great. Statics we’re awesome! P...</td>\n",
       "    </tr>\n",
       "    <tr>\n",
       "      <th>51</th>\n",
       "      <td>More bathrooms &amp; handwashing stations</td>\n",
       "    </tr>\n",
       "    <tr>\n",
       "      <th>54</th>\n",
       "      <td>I heard there were issues, but we arrived righ...</td>\n",
       "    </tr>\n",
       "    <tr>\n",
       "      <th>55</th>\n",
       "      <td>I waited for more than two hours to get in. I ...</td>\n",
       "    </tr>\n",
       "    <tr>\n",
       "      <th>59</th>\n",
       "      <td>Great job this year!</td>\n",
       "    </tr>\n",
       "    <tr>\n",
       "      <th>61</th>\n",
       "      <td>I felt the variety and number of  both static ...</td>\n",
       "    </tr>\n",
       "    <tr>\n",
       "      <th>62</th>\n",
       "      <td>The parking for 2021 was the worst ever. It to...</td>\n",
       "    </tr>\n",
       "    <tr>\n",
       "      <th>63</th>\n",
       "      <td>The variety of new aircraft was nice. I would ...</td>\n",
       "    </tr>\n",
       "    <tr>\n",
       "      <th>64</th>\n",
       "      <td>The show was absolutely fantastic!</td>\n",
       "    </tr>\n",
       "    <tr>\n",
       "      <th>65</th>\n",
       "      <td>The drive in and parking was atrocious.\n",
       "There ...</td>\n",
       "    </tr>\n",
       "    <tr>\n",
       "      <th>66</th>\n",
       "      <td>Need to expedite faster parking. More food ven...</td>\n",
       "    </tr>\n",
       "  </tbody>\n",
       "</table>\n",
       "</div>"
      ],
      "text/plain": [
       "                                             Comments\n",
       "1   This year's Expo was great! Hands down a huge ...\n",
       "2   Appreciated the helpfulness of onsite local po...\n",
       "4   Website said breakfast on both days but there ...\n",
       "5   AirExpo was fun and it was great being able to...\n",
       "8   A fantastic event! I was not sure if the kids ...\n",
       "9          Loved the A-10s. Everyone did a great job.\n",
       "10                              Serve beer for adults\n",
       "11                                               None\n",
       "13  We enjoyed our first time there! Will plan on ...\n",
       "14  It was so much fun. Loved all the vets you had...\n",
       "15  More shade and seating would be a huge improve...\n",
       "16  You completely and utterly failed with having ...\n",
       "17                           It was amazing thank you\n",
       "18  Please try to have more food trucks next year....\n",
       "19  Loved it! My 91 yr old dad got us started last...\n",
       "20  Thank you for doing such a great job! We came ...\n",
       "21                                  More food options\n",
       "22  More than one entrance, or multiple lanes ente...\n",
       "23  I thought the flight demonstrations of Saturda...\n",
       "25  More WW2 planes maybe a Fokker-Wulf, Stratafor...\n",
       "26  Took me 1 hour to get from the Flying Cloud Dr...\n",
       "28  Please continue the pancake breakfast!  A bigg...\n",
       "31  Enjoyed the show. The entrance wait could have...\n",
       "32  Biggest complaint is the fact that getting int...\n",
       "33                              The parking was awful\n",
       "34  Only things I can think of, if the B-17 would ...\n",
       "35  Overall it was a great event to go to. Only re...\n",
       "36                     Please recycle plastic bottles\n",
       "39                 More toilets and more food vendors\n",
       "41  Well organized. Like to see special op activit...\n",
       "43         Have more than ONE entrance to parking!!!!\n",
       "44                                    It was awesome!\n",
       "45  More food options. Vendors ran out of food at ...\n",
       "46                                  more food choices\n",
       "50  Everything was great. Statics we’re awesome! P...\n",
       "51              More bathrooms & handwashing stations\n",
       "54  I heard there were issues, but we arrived righ...\n",
       "55  I waited for more than two hours to get in. I ...\n",
       "59                               Great job this year!\n",
       "61  I felt the variety and number of  both static ...\n",
       "62  The parking for 2021 was the worst ever. It to...\n",
       "63  The variety of new aircraft was nice. I would ...\n",
       "64                 The show was absolutely fantastic!\n",
       "65  The drive in and parking was atrocious.\n",
       "There ...\n",
       "66  Need to expedite faster parking. More food ven..."
      ]
     },
     "execution_count": 3,
     "metadata": {},
     "output_type": "execute_result"
    }
   ],
   "source": [
    "comments = data.drop(['first_AirExpo', 'past_AirExpos', 'likely_to_come_back', 'likely_to_recommend', \n",
    "           'age_group','Explain','entry_id'], axis=1)\n",
    "\n",
    "comments = comments.dropna()\n",
    "\n",
    "comments['Comments'] = comments['Comments'].astype('string')\n",
    "\n",
    "comments"
   ]
  },
  {
   "cell_type": "markdown",
   "id": "5583b8c6",
   "metadata": {},
   "source": [
    "### clean, tokenize, and lemmatize words for analysis"
   ]
  },
  {
   "cell_type": "code",
   "execution_count": 4,
   "id": "99016342",
   "metadata": {},
   "outputs": [
    {
     "data": {
      "text/html": [
       "<div>\n",
       "<style scoped>\n",
       "    .dataframe tbody tr th:only-of-type {\n",
       "        vertical-align: middle;\n",
       "    }\n",
       "\n",
       "    .dataframe tbody tr th {\n",
       "        vertical-align: top;\n",
       "    }\n",
       "\n",
       "    .dataframe thead th {\n",
       "        text-align: right;\n",
       "    }\n",
       "</style>\n",
       "<table border=\"1\" class=\"dataframe\">\n",
       "  <thead>\n",
       "    <tr style=\"text-align: right;\">\n",
       "      <th></th>\n",
       "      <th>Comments</th>\n",
       "      <th>cleaned_comments</th>\n",
       "    </tr>\n",
       "  </thead>\n",
       "  <tbody>\n",
       "    <tr>\n",
       "      <th>1</th>\n",
       "      <td>This year's Expo was great! Hands down a huge ...</td>\n",
       "      <td>this year s expo was great hands down a huge i...</td>\n",
       "    </tr>\n",
       "    <tr>\n",
       "      <th>2</th>\n",
       "      <td>Appreciated the helpfulness of onsite local po...</td>\n",
       "      <td>appreciated the helpfulness of onsite local po...</td>\n",
       "    </tr>\n",
       "    <tr>\n",
       "      <th>4</th>\n",
       "      <td>Website said breakfast on both days but there ...</td>\n",
       "      <td>website said breakfast on both days but there ...</td>\n",
       "    </tr>\n",
       "    <tr>\n",
       "      <th>5</th>\n",
       "      <td>AirExpo was fun and it was great being able to...</td>\n",
       "      <td>airexpo was fun and it was great being able to...</td>\n",
       "    </tr>\n",
       "    <tr>\n",
       "      <th>8</th>\n",
       "      <td>A fantastic event! I was not sure if the kids ...</td>\n",
       "      <td>a fantastic event i was not sure if the kids c...</td>\n",
       "    </tr>\n",
       "  </tbody>\n",
       "</table>\n",
       "</div>"
      ],
      "text/plain": [
       "                                            Comments  \\\n",
       "1  This year's Expo was great! Hands down a huge ...   \n",
       "2  Appreciated the helpfulness of onsite local po...   \n",
       "4  Website said breakfast on both days but there ...   \n",
       "5  AirExpo was fun and it was great being able to...   \n",
       "8  A fantastic event! I was not sure if the kids ...   \n",
       "\n",
       "                                    cleaned_comments  \n",
       "1  this year s expo was great hands down a huge i...  \n",
       "2  appreciated the helpfulness of onsite local po...  \n",
       "4  website said breakfast on both days but there ...  \n",
       "5  airexpo was fun and it was great being able to...  \n",
       "8  a fantastic event i was not sure if the kids c...  "
      ]
     },
     "execution_count": 4,
     "metadata": {},
     "output_type": "execute_result"
    }
   ],
   "source": [
    "def clean(text):\n",
    "# Removes all special characters and numericals leaving the alphabets\n",
    "    text = re.sub('[^A-Za-z]+', ' ', text)\n",
    "    text = text.lower()\n",
    "    return text\n",
    "\n",
    "comments['cleaned_comments'] = comments['Comments'].apply(clean)\n",
    "comments.head()"
   ]
  },
  {
   "cell_type": "code",
   "execution_count": 5,
   "id": "6b397717",
   "metadata": {
    "scrolled": true
   },
   "outputs": [],
   "source": [
    "import nltk\n",
    "from nltk.tokenize import word_tokenize\n",
    "from nltk import pos_tag\n",
    "from nltk.corpus import stopwords\n",
    "from nltk.corpus import wordnet\n",
    "\n",
    "# POS tagger dictionary\n",
    "pos_dict = {'J':wordnet.ADJ, 'V':wordnet.VERB, 'N':wordnet.NOUN, 'R':wordnet.ADV}\n",
    "\n",
    "def token_stop_pos(text):\n",
    "    tags = pos_tag(word_tokenize(text))\n",
    "    newlist = []\n",
    "    for word, tag in tags:\n",
    "        if word.lower() not in set(stopwords.words('english')):\n",
    "            newlist.append(tuple([word, pos_dict.get(tag[0])]))\n",
    "    return newlist"
   ]
  },
  {
   "cell_type": "code",
   "execution_count": 6,
   "id": "37989913",
   "metadata": {},
   "outputs": [
    {
     "data": {
      "text/html": [
       "<div>\n",
       "<style scoped>\n",
       "    .dataframe tbody tr th:only-of-type {\n",
       "        vertical-align: middle;\n",
       "    }\n",
       "\n",
       "    .dataframe tbody tr th {\n",
       "        vertical-align: top;\n",
       "    }\n",
       "\n",
       "    .dataframe thead th {\n",
       "        text-align: right;\n",
       "    }\n",
       "</style>\n",
       "<table border=\"1\" class=\"dataframe\">\n",
       "  <thead>\n",
       "    <tr style=\"text-align: right;\">\n",
       "      <th></th>\n",
       "      <th>Comments</th>\n",
       "      <th>cleaned_comments</th>\n",
       "      <th>POS_tagged</th>\n",
       "    </tr>\n",
       "  </thead>\n",
       "  <tbody>\n",
       "    <tr>\n",
       "      <th>1</th>\n",
       "      <td>This year's Expo was great! Hands down a huge ...</td>\n",
       "      <td>this year s expo was great hands down a huge i...</td>\n",
       "      <td>[(year, n), (expo, n), (great, a), (hands, n),...</td>\n",
       "    </tr>\n",
       "    <tr>\n",
       "      <th>2</th>\n",
       "      <td>Appreciated the helpfulness of onsite local po...</td>\n",
       "      <td>appreciated the helpfulness of onsite local po...</td>\n",
       "      <td>[(appreciated, v), (helpfulness, n), (onsite, ...</td>\n",
       "    </tr>\n",
       "    <tr>\n",
       "      <th>4</th>\n",
       "      <td>Website said breakfast on both days but there ...</td>\n",
       "      <td>website said breakfast on both days but there ...</td>\n",
       "      <td>[(website, n), (said, v), (breakfast, n), (day...</td>\n",
       "    </tr>\n",
       "    <tr>\n",
       "      <th>5</th>\n",
       "      <td>AirExpo was fun and it was great being able to...</td>\n",
       "      <td>airexpo was fun and it was great being able to...</td>\n",
       "      <td>[(airexpo, n), (fun, n), (great, a), (able, a)...</td>\n",
       "    </tr>\n",
       "    <tr>\n",
       "      <th>8</th>\n",
       "      <td>A fantastic event! I was not sure if the kids ...</td>\n",
       "      <td>a fantastic event i was not sure if the kids c...</td>\n",
       "      <td>[(fantastic, a), (event, n), (sure, a), (kids,...</td>\n",
       "    </tr>\n",
       "  </tbody>\n",
       "</table>\n",
       "</div>"
      ],
      "text/plain": [
       "                                            Comments  \\\n",
       "1  This year's Expo was great! Hands down a huge ...   \n",
       "2  Appreciated the helpfulness of onsite local po...   \n",
       "4  Website said breakfast on both days but there ...   \n",
       "5  AirExpo was fun and it was great being able to...   \n",
       "8  A fantastic event! I was not sure if the kids ...   \n",
       "\n",
       "                                    cleaned_comments  \\\n",
       "1  this year s expo was great hands down a huge i...   \n",
       "2  appreciated the helpfulness of onsite local po...   \n",
       "4  website said breakfast on both days but there ...   \n",
       "5  airexpo was fun and it was great being able to...   \n",
       "8  a fantastic event i was not sure if the kids c...   \n",
       "\n",
       "                                          POS_tagged  \n",
       "1  [(year, n), (expo, n), (great, a), (hands, n),...  \n",
       "2  [(appreciated, v), (helpfulness, n), (onsite, ...  \n",
       "4  [(website, n), (said, v), (breakfast, n), (day...  \n",
       "5  [(airexpo, n), (fun, n), (great, a), (able, a)...  \n",
       "8  [(fantastic, a), (event, n), (sure, a), (kids,...  "
      ]
     },
     "execution_count": 6,
     "metadata": {},
     "output_type": "execute_result"
    }
   ],
   "source": [
    "comments['POS_tagged'] = comments['cleaned_comments'].apply(token_stop_pos)\n",
    "comments.head()"
   ]
  },
  {
   "cell_type": "code",
   "execution_count": 7,
   "id": "d78d95bf",
   "metadata": {
    "scrolled": true
   },
   "outputs": [],
   "source": [
    "from nltk.stem import WordNetLemmatizer\n",
    "\n",
    "wordnet_lemmatizer = WordNetLemmatizer()\n",
    "\n",
    "def lemmatize(pos_data):\n",
    "    lemma_rew = \" \"\n",
    "    for word, pos in pos_data:\n",
    "        if not pos:\n",
    "            lemma = word\n",
    "            lemma_rew = lemma_rew + \" \" + lemma\n",
    "        else:\n",
    "            lemma = wordnet_lemmatizer.lemmatize(word, pos=pos)\n",
    "            lemma_rew = lemma_rew + \" \" + lemma\n",
    "    return lemma_rew"
   ]
  },
  {
   "cell_type": "code",
   "execution_count": 8,
   "id": "77c1480e",
   "metadata": {},
   "outputs": [
    {
     "data": {
      "text/html": [
       "<div>\n",
       "<style scoped>\n",
       "    .dataframe tbody tr th:only-of-type {\n",
       "        vertical-align: middle;\n",
       "    }\n",
       "\n",
       "    .dataframe tbody tr th {\n",
       "        vertical-align: top;\n",
       "    }\n",
       "\n",
       "    .dataframe thead th {\n",
       "        text-align: right;\n",
       "    }\n",
       "</style>\n",
       "<table border=\"1\" class=\"dataframe\">\n",
       "  <thead>\n",
       "    <tr style=\"text-align: right;\">\n",
       "      <th></th>\n",
       "      <th>Comments</th>\n",
       "      <th>cleaned_comments</th>\n",
       "      <th>POS_tagged</th>\n",
       "      <th>Lemma</th>\n",
       "    </tr>\n",
       "  </thead>\n",
       "  <tbody>\n",
       "    <tr>\n",
       "      <th>1</th>\n",
       "      <td>This year's Expo was great! Hands down a huge ...</td>\n",
       "      <td>this year s expo was great hands down a huge i...</td>\n",
       "      <td>[(year, n), (expo, n), (great, a), (hands, n),...</td>\n",
       "      <td>year expo great hand huge improvement one go...</td>\n",
       "    </tr>\n",
       "    <tr>\n",
       "      <th>2</th>\n",
       "      <td>Appreciated the helpfulness of onsite local po...</td>\n",
       "      <td>appreciated the helpfulness of onsite local po...</td>\n",
       "      <td>[(appreciated, v), (helpfulness, n), (onsite, ...</td>\n",
       "      <td>appreciate helpfulness onsite local police a...</td>\n",
       "    </tr>\n",
       "    <tr>\n",
       "      <th>4</th>\n",
       "      <td>Website said breakfast on both days but there ...</td>\n",
       "      <td>website said breakfast on both days but there ...</td>\n",
       "      <td>[(website, n), (said, v), (breakfast, n), (day...</td>\n",
       "      <td>website say breakfast day none saturday food...</td>\n",
       "    </tr>\n",
       "    <tr>\n",
       "      <th>5</th>\n",
       "      <td>AirExpo was fun and it was great being able to...</td>\n",
       "      <td>airexpo was fun and it was great being able to...</td>\n",
       "      <td>[(airexpo, n), (fun, n), (great, a), (able, a)...</td>\n",
       "      <td>airexpo fun great able get close aircraft fu...</td>\n",
       "    </tr>\n",
       "    <tr>\n",
       "      <th>8</th>\n",
       "      <td>A fantastic event! I was not sure if the kids ...</td>\n",
       "      <td>a fantastic event i was not sure if the kids c...</td>\n",
       "      <td>[(fantastic, a), (event, n), (sure, a), (kids,...</td>\n",
       "      <td>fantastic event sure kid could climb seat pl...</td>\n",
       "    </tr>\n",
       "  </tbody>\n",
       "</table>\n",
       "</div>"
      ],
      "text/plain": [
       "                                            Comments  \\\n",
       "1  This year's Expo was great! Hands down a huge ...   \n",
       "2  Appreciated the helpfulness of onsite local po...   \n",
       "4  Website said breakfast on both days but there ...   \n",
       "5  AirExpo was fun and it was great being able to...   \n",
       "8  A fantastic event! I was not sure if the kids ...   \n",
       "\n",
       "                                    cleaned_comments  \\\n",
       "1  this year s expo was great hands down a huge i...   \n",
       "2  appreciated the helpfulness of onsite local po...   \n",
       "4  website said breakfast on both days but there ...   \n",
       "5  airexpo was fun and it was great being able to...   \n",
       "8  a fantastic event i was not sure if the kids c...   \n",
       "\n",
       "                                          POS_tagged  \\\n",
       "1  [(year, n), (expo, n), (great, a), (hands, n),...   \n",
       "2  [(appreciated, v), (helpfulness, n), (onsite, ...   \n",
       "4  [(website, n), (said, v), (breakfast, n), (day...   \n",
       "5  [(airexpo, n), (fun, n), (great, a), (able, a)...   \n",
       "8  [(fantastic, a), (event, n), (sure, a), (kids,...   \n",
       "\n",
       "                                               Lemma  \n",
       "1    year expo great hand huge improvement one go...  \n",
       "2    appreciate helpfulness onsite local police a...  \n",
       "4    website say breakfast day none saturday food...  \n",
       "5    airexpo fun great able get close aircraft fu...  \n",
       "8    fantastic event sure kid could climb seat pl...  "
      ]
     },
     "execution_count": 8,
     "metadata": {},
     "output_type": "execute_result"
    }
   ],
   "source": [
    "comments['Lemma'] = comments['POS_tagged'].apply(lemmatize)\n",
    "comments.head()"
   ]
  },
  {
   "cell_type": "markdown",
   "id": "867ea017",
   "metadata": {},
   "source": [
    "## Section 2: Create a textblob sentiment analysis"
   ]
  },
  {
   "cell_type": "code",
   "execution_count": 9,
   "id": "15d90c56",
   "metadata": {},
   "outputs": [],
   "source": [
    "from textblob import TextBlob\n",
    "\n",
    "# function to calculate subjectivity\n",
    "def getSubjectivity(review):\n",
    "    return TextBlob(review).sentiment.subjectivity\n",
    "# function to calculate polarity\n",
    "def getPolarity(review):\n",
    "    return TextBlob(review).sentiment.polarity\n",
    "\n",
    "# function to analyze the reviews\n",
    "def analysis(score):\n",
    "    if score < 0:\n",
    "        return 'Negative'\n",
    "    elif score == 0:\n",
    "        return 'Neutral'\n",
    "    else:\n",
    "        return 'Positive'"
   ]
  },
  {
   "cell_type": "code",
   "execution_count": 10,
   "id": "bf19600e",
   "metadata": {
    "scrolled": true
   },
   "outputs": [
    {
     "data": {
      "text/html": [
       "<div>\n",
       "<style scoped>\n",
       "    .dataframe tbody tr th:only-of-type {\n",
       "        vertical-align: middle;\n",
       "    }\n",
       "\n",
       "    .dataframe tbody tr th {\n",
       "        vertical-align: top;\n",
       "    }\n",
       "\n",
       "    .dataframe thead th {\n",
       "        text-align: right;\n",
       "    }\n",
       "</style>\n",
       "<table border=\"1\" class=\"dataframe\">\n",
       "  <thead>\n",
       "    <tr style=\"text-align: right;\">\n",
       "      <th></th>\n",
       "      <th>Comments</th>\n",
       "      <th>Lemma</th>\n",
       "      <th>Polarity</th>\n",
       "      <th>Subjectivity</th>\n",
       "      <th>Analysis</th>\n",
       "    </tr>\n",
       "  </thead>\n",
       "  <tbody>\n",
       "    <tr>\n",
       "      <th>1</th>\n",
       "      <td>This year's Expo was great! Hands down a huge ...</td>\n",
       "      <td>year expo great hand huge improvement one go...</td>\n",
       "      <td>0.426667</td>\n",
       "      <td>0.563333</td>\n",
       "      <td>Positive</td>\n",
       "    </tr>\n",
       "    <tr>\n",
       "      <th>2</th>\n",
       "      <td>Appreciated the helpfulness of onsite local po...</td>\n",
       "      <td>appreciate helpfulness onsite local police a...</td>\n",
       "      <td>0.000000</td>\n",
       "      <td>0.500000</td>\n",
       "      <td>Neutral</td>\n",
       "    </tr>\n",
       "    <tr>\n",
       "      <th>4</th>\n",
       "      <td>Website said breakfast on both days but there ...</td>\n",
       "      <td>website say breakfast day none saturday food...</td>\n",
       "      <td>0.700000</td>\n",
       "      <td>0.950000</td>\n",
       "      <td>Positive</td>\n",
       "    </tr>\n",
       "    <tr>\n",
       "      <th>5</th>\n",
       "      <td>AirExpo was fun and it was great being able to...</td>\n",
       "      <td>airexpo fun great able get close aircraft fu...</td>\n",
       "      <td>0.343750</td>\n",
       "      <td>0.434375</td>\n",
       "      <td>Positive</td>\n",
       "    </tr>\n",
       "    <tr>\n",
       "      <th>8</th>\n",
       "      <td>A fantastic event! I was not sure if the kids ...</td>\n",
       "      <td>fantastic event sure kid could climb seat pl...</td>\n",
       "      <td>0.392857</td>\n",
       "      <td>0.725397</td>\n",
       "      <td>Positive</td>\n",
       "    </tr>\n",
       "  </tbody>\n",
       "</table>\n",
       "</div>"
      ],
      "text/plain": [
       "                                            Comments  \\\n",
       "1  This year's Expo was great! Hands down a huge ...   \n",
       "2  Appreciated the helpfulness of onsite local po...   \n",
       "4  Website said breakfast on both days but there ...   \n",
       "5  AirExpo was fun and it was great being able to...   \n",
       "8  A fantastic event! I was not sure if the kids ...   \n",
       "\n",
       "                                               Lemma  Polarity  Subjectivity  \\\n",
       "1    year expo great hand huge improvement one go...  0.426667      0.563333   \n",
       "2    appreciate helpfulness onsite local police a...  0.000000      0.500000   \n",
       "4    website say breakfast day none saturday food...  0.700000      0.950000   \n",
       "5    airexpo fun great able get close aircraft fu...  0.343750      0.434375   \n",
       "8    fantastic event sure kid could climb seat pl...  0.392857      0.725397   \n",
       "\n",
       "   Analysis  \n",
       "1  Positive  \n",
       "2   Neutral  \n",
       "4  Positive  \n",
       "5  Positive  \n",
       "8  Positive  "
      ]
     },
     "execution_count": 10,
     "metadata": {},
     "output_type": "execute_result"
    }
   ],
   "source": [
    "fin_data = pd.DataFrame(comments[['Comments', 'Lemma']])\n",
    "\n",
    "fin_data['Polarity'] = fin_data['Lemma'].apply(getPolarity)\n",
    "fin_data['Subjectivity'] = fin_data['Lemma'].apply(getSubjectivity) \n",
    "fin_data['Analysis'] = fin_data['Polarity'].apply(analysis)\n",
    "fin_data.head()"
   ]
  },
  {
   "cell_type": "markdown",
   "id": "5a59c1b7",
   "metadata": {},
   "source": [
    "#### Looks like the the rating in about 27/45 = .6 as shown in the pie chart"
   ]
  },
  {
   "cell_type": "code",
   "execution_count": 11,
   "id": "d41940c1",
   "metadata": {
    "scrolled": false
   },
   "outputs": [
    {
     "data": {
      "text/plain": [
       "Positive    27\n",
       "Neutral     12\n",
       "Negative     6\n",
       "Name: Analysis, dtype: int64"
      ]
     },
     "execution_count": 11,
     "metadata": {},
     "output_type": "execute_result"
    }
   ],
   "source": [
    "tb_counts = fin_data.Analysis.value_counts()\n",
    "\n",
    "tb_counts"
   ]
  },
  {
   "cell_type": "code",
   "execution_count": 12,
   "id": "f4a20e65",
   "metadata": {
    "scrolled": true
   },
   "outputs": [
    {
     "data": {
      "text/plain": [
       "([<matplotlib.patches.Wedge at 0x1cbb9b5ba30>,\n",
       "  <matplotlib.patches.Wedge at 0x1cbb9b81160>,\n",
       "  <matplotlib.patches.Wedge at 0x1cbb9b81880>],\n",
       " [Text(-0.33991877217145816, 1.046162142464278, 'Positive'),\n",
       "  Text(-0.11498109791557498, -1.093974107153423, 'Neutral'),\n",
       "  Text(1.2332865100516217, -0.5490941486891763, 'Negative')],\n",
       " [Text(-0.18541023936624987, 0.5706338958896061, '60.0%'),\n",
       "  Text(-0.06271696249940453, -0.5967131493564125, '26.7%'),\n",
       "  Text(0.7765137285510211, -0.3457259454709628, '13.3%')])"
      ]
     },
     "execution_count": 12,
     "metadata": {},
     "output_type": "execute_result"
    },
    {
     "data": {
      "image/png": "[encoded data removed]",
      "text/plain": [
       "<Figure size 1080x504 with 1 Axes>"
      ]
     },
     "metadata": {},
     "output_type": "display_data"
    }
   ],
   "source": [
    "import matplotlib.pyplot as plt\n",
    "\n",
    "%matplotlib inline\n",
    "plt.figure(figsize=(15,7))\n",
    "plt.subplot(1,3,1)\n",
    "plt.title(\"TextBlob results\")\n",
    "plt.pie(tb_counts.values, labels = tb_counts.index, explode = (0, 0, 0.25), autopct='%1.1f%%', shadow=False)"
   ]
  },
  {
   "cell_type": "code",
   "execution_count": 13,
   "id": "01c43a06",
   "metadata": {},
   "outputs": [],
   "source": [
    "### Subjectively has an average of ~0.4 which means most comments are possitive."
   ]
  },
  {
   "cell_type": "code",
   "execution_count": 14,
   "id": "38b5bc05",
   "metadata": {
    "scrolled": true
   },
   "outputs": [
    {
     "data": {
      "text/html": [
       "<div>\n",
       "<style scoped>\n",
       "    .dataframe tbody tr th:only-of-type {\n",
       "        vertical-align: middle;\n",
       "    }\n",
       "\n",
       "    .dataframe tbody tr th {\n",
       "        vertical-align: top;\n",
       "    }\n",
       "\n",
       "    .dataframe thead th {\n",
       "        text-align: right;\n",
       "    }\n",
       "</style>\n",
       "<table border=\"1\" class=\"dataframe\">\n",
       "  <thead>\n",
       "    <tr style=\"text-align: right;\">\n",
       "      <th></th>\n",
       "      <th>Polarity</th>\n",
       "      <th>Subjectivity</th>\n",
       "    </tr>\n",
       "  </thead>\n",
       "  <tbody>\n",
       "    <tr>\n",
       "      <th>count</th>\n",
       "      <td>45.000000</td>\n",
       "      <td>45.000000</td>\n",
       "    </tr>\n",
       "    <tr>\n",
       "      <th>mean</th>\n",
       "      <td>0.186371</td>\n",
       "      <td>0.403320</td>\n",
       "    </tr>\n",
       "    <tr>\n",
       "      <th>std</th>\n",
       "      <td>0.313103</td>\n",
       "      <td>0.302341</td>\n",
       "    </tr>\n",
       "    <tr>\n",
       "      <th>min</th>\n",
       "      <td>-1.000000</td>\n",
       "      <td>0.000000</td>\n",
       "    </tr>\n",
       "    <tr>\n",
       "      <th>25%</th>\n",
       "      <td>0.000000</td>\n",
       "      <td>0.000000</td>\n",
       "    </tr>\n",
       "    <tr>\n",
       "      <th>50%</th>\n",
       "      <td>0.162500</td>\n",
       "      <td>0.441667</td>\n",
       "    </tr>\n",
       "    <tr>\n",
       "      <th>75%</th>\n",
       "      <td>0.368571</td>\n",
       "      <td>0.571429</td>\n",
       "    </tr>\n",
       "    <tr>\n",
       "      <th>max</th>\n",
       "      <td>1.000000</td>\n",
       "      <td>1.000000</td>\n",
       "    </tr>\n",
       "  </tbody>\n",
       "</table>\n",
       "</div>"
      ],
      "text/plain": [
       "        Polarity  Subjectivity\n",
       "count  45.000000     45.000000\n",
       "mean    0.186371      0.403320\n",
       "std     0.313103      0.302341\n",
       "min    -1.000000      0.000000\n",
       "25%     0.000000      0.000000\n",
       "50%     0.162500      0.441667\n",
       "75%     0.368571      0.571429\n",
       "max     1.000000      1.000000"
      ]
     },
     "execution_count": 14,
     "metadata": {},
     "output_type": "execute_result"
    }
   ],
   "source": [
    "fin_data.describe()"
   ]
  },
  {
   "cell_type": "code",
   "execution_count": 15,
   "id": "616b514e",
   "metadata": {},
   "outputs": [],
   "source": [
    "### Boxplot reassures this."
   ]
  },
  {
   "cell_type": "code",
   "execution_count": 16,
   "id": "8a645a44",
   "metadata": {
    "scrolled": true
   },
   "outputs": [
    {
     "data": {
      "text/plain": [
       "<AxesSubplot:>"
      ]
     },
     "execution_count": 16,
     "metadata": {},
     "output_type": "execute_result"
    },
    {
     "data": {
      "image/png": "[encoded data removed]",
      "text/plain": [
       "<Figure size 432x288 with 1 Axes>"
      ]
     },
     "metadata": {
      "needs_background": "light"
     },
     "output_type": "display_data"
    }
   ],
   "source": [
    "boxplot = fin_data.boxplot(column=['Polarity', 'Subjectivity']) \n",
    "boxplot"
   ]
  },
  {
   "cell_type": "code",
   "execution_count": 17,
   "id": "9f832773",
   "metadata": {},
   "outputs": [],
   "source": [
    "## In this section we will look at how words relate to each other using PMI Matrix Methods."
   ]
  },
  {
   "cell_type": "code",
   "execution_count": 18,
   "id": "70020dfc",
   "metadata": {},
   "outputs": [],
   "source": [
    "from collections import Counter\n",
    "from itertools import combinations\n",
    "from math import log\n",
    "import matplotlib.pyplot as plt\n",
    "import numpy as np\n",
    "import pandas as pd\n",
    "from pprint import pformat\n",
    "from scipy.sparse import csc_matrix\n",
    "from scipy.sparse.linalg import svds, norm\n",
    "from string import punctuation"
   ]
  },
  {
   "cell_type": "code",
   "execution_count": 19,
   "id": "97c0d6b0",
   "metadata": {
    "scrolled": false
   },
   "outputs": [
    {
     "name": "stdout",
     "output_type": "stream",
     "text": [
      "CPU times: total: 0 ns\n",
      "Wall time: 999 µs\n"
     ]
    }
   ],
   "source": [
    "%%time\n",
    "punctrans = str.maketrans(dict.fromkeys(punctuation))\n",
    "def tokenize(Lemma):\n",
    "    x = Lemma.lower() # Lowercase\n",
    "    x = x.encode('ascii', 'ignore').decode() # Keep only ascii chars.\n",
    "    x = x.translate(punctrans) # Remove punctuation\n",
    "    return x.split() # Return tokenized.\n",
    "\n",
    "texts_tokenized = comments['Lemma'].apply(tokenize)"
   ]
  },
  {
   "cell_type": "code",
   "execution_count": 20,
   "id": "82e83109",
   "metadata": {},
   "outputs": [
    {
     "name": "stdout",
     "output_type": "stream",
     "text": [
      "CPU times: total: 31.2 ms\n",
      "Wall time: 17 ms\n"
     ]
    }
   ],
   "source": [
    "%%time\n",
    "cx = Counter()\n",
    "cxy = Counter()\n",
    "for text in texts_tokenized:\n",
    "    for x in text:\n",
    "        cx[x] += 1\n",
    "    for x, y in map(sorted, combinations(text, 2)):\n",
    "        cxy[(x, y)] += 1"
   ]
  },
  {
   "cell_type": "code",
   "execution_count": 21,
   "id": "ea9073af",
   "metadata": {
    "scrolled": true
   },
   "outputs": [
    {
     "name": "stdout",
     "output_type": "stream",
     "text": [
      "CPU times: total: 0 ns\n",
      "Wall time: 1 ms\n"
     ]
    }
   ],
   "source": [
    "%%time\n",
    "x2i, i2x = {}, {}\n",
    "for i, x in enumerate(cx.keys()):\n",
    "    x2i[x] = i\n",
    "    i2x[i] = x"
   ]
  },
  {
   "cell_type": "code",
   "execution_count": 22,
   "id": "6ca71a88",
   "metadata": {},
   "outputs": [],
   "source": [
    "sx = sum(cx.values())\n",
    "sxy = sum(cxy.values())"
   ]
  },
  {
   "cell_type": "code",
   "execution_count": 23,
   "id": "38745143",
   "metadata": {},
   "outputs": [],
   "source": [
    "### Bigram shows mainly helpfulness of organizers, not much else."
   ]
  },
  {
   "cell_type": "code",
   "execution_count": 24,
   "id": "d9e2e67f",
   "metadata": {
    "scrolled": false
   },
   "outputs": [
    {
     "name": "stdout",
     "output_type": "stream",
     "text": [
      "8603 non-zero elements\n",
      "Sample PMI values\n",
      " [(('ago', 'suggest'), 3.8724209761861315),\n",
      " (('ago', 'available'), 3.8724209761861315),\n",
      " (('ago', 'lineup'), 3.8724209761861315),\n",
      " (('available', 'suggest'), 3.8724209761861315),\n",
      " (('lineup', 'suggest'), 3.8724209761861315),\n",
      " (('available', 'lineup'), 3.8724209761861315),\n",
      " (('helpfulness', 'onsite'), 3.8724209761861315),\n",
      " (('helpfulness', 'local'), 3.8724209761861315),\n",
      " (('attempt', 'helpfulness'), 3.8724209761861315),\n",
      " (('helpfulness', 'unlock'), 3.8724209761861315)]\n"
     ]
    }
   ],
   "source": [
    "pmi_samples = Counter()\n",
    "data, rows, cols = [], [], []\n",
    "for (x, y), n in cxy.items():\n",
    "    rows.append(x2i[x])\n",
    "    cols.append(x2i[y])\n",
    "    data.append(log((n / sxy) / (cx[x] / sx) / (cx[y] / sx)))\n",
    "    pmi_samples[(x, y)] = data[-1]\n",
    "PMI = csc_matrix((data, (rows, cols)))\n",
    "print('%d non-zero elements' % PMI.count_nonzero())\n",
    "print('Sample PMI values\\n', pformat(pmi_samples.most_common()[:10]))"
   ]
  },
  {
   "cell_type": "code",
   "execution_count": 25,
   "id": "321e9812",
   "metadata": {
    "scrolled": true
   },
   "outputs": [
    {
     "name": "stdout",
     "output_type": "stream",
     "text": [
      "CPU times: total: 31.2 ms\n",
      "Wall time: 22.1 ms\n"
     ]
    }
   ],
   "source": [
    "%%time\n",
    "U, _, _ = svds(PMI, k=20)"
   ]
  },
  {
   "cell_type": "code",
   "execution_count": 26,
   "id": "7e81c221",
   "metadata": {},
   "outputs": [],
   "source": [
    "norms = np.sqrt(np.sum(np.square(U), axis=1, keepdims=True))\n",
    "U /= np.maximum(norms, 1e-7)"
   ]
  },
  {
   "cell_type": "code",
   "execution_count": 27,
   "id": "ecf3f54a",
   "metadata": {},
   "outputs": [],
   "source": [
    "### K Nearest Neghbors shows some good insight:\n",
    "#### 1. Patrking was bad\n",
    "#### 2. Entering the airshow was bad\n",
    "#### 2. Spitfire was popular"
   ]
  },
  {
   "cell_type": "code",
   "execution_count": 28,
   "id": "21ede39c",
   "metadata": {
    "scrolled": true
   },
   "outputs": [
    {
     "name": "stdout",
     "output_type": "stream",
     "text": [
      "parking, 11\n",
      " (specific, 0.766) (spot, 0.813) (national, 0.766) (shame, 0.755) (nascar, 0.741) \n",
      "----------\n",
      "drive, 4\n",
      " (gate, 0.608) (fact, 0.561) (around, 0.552) (field, 0.560) (long, 0.548) \n",
      "----------\n",
      "food, 13\n",
      " (family, 0.857) (low, 0.841) (nobody, 0.829) (hurricane, 0.819) (measure, 0.853) \n",
      "----------\n",
      "static, 2\n",
      " (spitfire, 0.983) (sun, 0.979) (trip, 0.974) (think, 0.969) (unfortunately, 0.959) \n",
      "----------\n",
      "entrance, 4\n",
      " (impatient, 0.981) (dr, 0.994) (hate, 0.988) (pioneer, 0.930) (intersection, 0.771) \n",
      "----------\n",
      "breakfast, 3\n",
      " (dad, 0.839) (elderly, 0.819) (activity, 0.866) (last, 0.764) (love, 0.757) \n",
      "----------\n",
      "airexpo, 1\n",
      " (early, 0.992) (fun, 0.986) (able, 1.000) (nearly, 0.899) (know, 0.954) \n",
      "----------\n"
     ]
    }
   ],
   "source": [
    "k = 5\n",
    "for x in ['parking', 'drive', 'food', 'static', 'entrance', 'breakfast', 'airexpo']:\n",
    "    dd = np.dot(U, U[x2i[x]]) # Cosine similarity for this unigram against all others.\n",
    "    s = ''\n",
    "    # Compile the list of nearest neighbor descriptions.\n",
    "    # Argpartition is faster than argsort and meets our needs.\n",
    "    for i in np.argpartition(-1 * dd, k + 1)[:k + 1]:\n",
    "        if i2x[i] == x: continue\n",
    "        s += '(%s, %.3lf) ' % (i2x[i], dd[i])\n",
    "    print('%s, %d\\n %s' % (x, cx[x], s))\n",
    "    print('-' * 10)"
   ]
  }
 ],
 "metadata": {
  "kernelspec": {
   "display_name": "Python 3 (ipykernel)",
   "language": "python",
   "name": "python3"
  },
  "language_info": {
   "codemirror_mode": {
    "name": "ipython",
    "version": 3
   },
   "file_extension": ".py",
   "mimetype": "text/x-python",
   "name": "python",
   "nbconvert_exporter": "python",
   "pygments_lexer": "ipython3",
   "version": "3.9.12"
  }
 },
 "nbformat": 4,
 "nbformat_minor": 5
}
